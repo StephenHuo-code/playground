{
 "cells": [
  {
   "cell_type": "code",
   "execution_count": 2,
   "metadata": {},
   "outputs": [
    {
     "name": "stdout",
     "output_type": "stream",
     "text": [
      "* Running on local URL:  http://127.0.0.1:7901\n",
      "\n",
      "To create a public link, set `share=True` in `launch()`.\n"
     ]
    },
    {
     "data": {
      "text/html": [
       "<div><iframe src=\"http://127.0.0.1:7901/\" width=\"100%\" height=\"500\" allow=\"autoplay; camera; microphone; clipboard-read; clipboard-write;\" frameborder=\"0\" allowfullscreen></iframe></div>"
      ],
      "text/plain": [
       "<IPython.core.display.HTML object>"
      ]
     },
     "metadata": {},
     "output_type": "display_data"
    },
    {
     "data": {
      "text/plain": []
     },
     "execution_count": 2,
     "metadata": {},
     "output_type": "execute_result"
    }
   ],
   "source": [
    "import gradio as gr\n",
    "\n",
    "\n",
    "js_button = \"\"\"\n",
    "function() {\n",
    "    document.getElementById('button').addEventListener('click', function() {\n",
    "        alert(\"Hello World!\");\n",
    "        const textbox = document.querySelector('#textbox textarea');\n",
    "        if (textbox) {\n",
    "            textbox.value = \"Hello World!\";\n",
    "            // 触发change事件以确保Gradio识别到值的改变\n",
    "            textbox.dispatchEvent(new Event('input', { bubbles: true }));\n",
    "        }\n",
    "        else {\n",
    "            alert(\"Textbox not found\");\n",
    "        }\n",
    "    });\n",
    "}\n",
    "\"\"\"\n",
    "\n",
    "with gr.Blocks() as demo:\n",
    "    with gr.Column() as col:\n",
    "        textbox = gr.Textbox(label=\"Output Text\", elem_id=\"textbox\")\n",
    "        button = gr.Button(\"Click Me!\", elem_id=\"button\") \n",
    "        button.click(fn=None, inputs=None, outputs=None, js=js_button)\n",
    "\n",
    "demo.launch()"
   ]
  }
 ],
 "metadata": {
  "kernelspec": {
   "display_name": "byteplus_video",
   "language": "python",
   "name": "python3"
  },
  "language_info": {
   "codemirror_mode": {
    "name": "ipython",
    "version": 3
   },
   "file_extension": ".py",
   "mimetype": "text/x-python",
   "name": "python",
   "nbconvert_exporter": "python",
   "pygments_lexer": "ipython3",
   "version": "3.11.10"
  }
 },
 "nbformat": 4,
 "nbformat_minor": 2
}
