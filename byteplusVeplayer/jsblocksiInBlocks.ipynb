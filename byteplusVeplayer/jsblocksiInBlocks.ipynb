{
 "cells": [
  {
   "cell_type": "code",
   "execution_count": null,
   "metadata": {},
   "outputs": [],
   "source": [
    "########################################################\n",
    "# 这段代码实现通过textbox先调用python函数，然后通过js将处理后的字符串传递给下一个textbox\n",
    "# 不用再修改了\n",
    "########################################################\n",
    "\n",
    "import gradio as gr  \n",
    "\n",
    "def process_string(input_string):  \n",
    "    \"\"\"处理字符串的 Python 函数\"\"\"  \n",
    "    processed_string = input_string + \"Precessed\"  # 例如，将字符串转换为大写  \n",
    "    return processed_string  \n",
    "\n",
    "\n",
    "js_button = \"\"\"\n",
    "function(inputValue) {\n",
    "    alert(inputValue);\n",
    "}\n",
    "\"\"\"\n",
    "\n",
    "with gr.Blocks() as demo:  \n",
    "    input_text = gr.Textbox(label=\"输入字符串\", elem_id=\"input-textbox\")  \n",
    "    middle_text = gr.Textbox(label=\"中转字符串\", elem_id=\"middle-textbox\", visible=False)  \n",
    "    output_text = gr.Textbox(label=\"输出字符串\", elem_id=\"output-textbox\")  \n",
    "\n",
    "    button = gr.Button(\"处理并传递给 JavaScript\")  \n",
    "    \n",
    "    button.click(  \n",
    "        fn=process_string,  \n",
    "        inputs=input_text,  \n",
    "        outputs=middle_text, \n",
    "    ).then(  \n",
    "        fn=None,  # 将处理后的字符串传递给 _js 参数  \n",
    "        inputs=middle_text,  \n",
    "        outputs=output_text,  # 将最终结果输出到 Gradio 组件  \n",
    "        js=js_button,  \n",
    "    )  \n",
    "\n",
    "demo.launch()"
   ]
  },
  {
   "cell_type": "code",
   "execution_count": 8,
   "metadata": {},
   "outputs": [
    {
     "name": "stderr",
     "output_type": "stream",
     "text": [
      "/Users/bytedance/miniconda3/envs/byteplus_video/lib/python3.11/site-packages/gradio/utils.py:980: UserWarning: Expected 1 arguments for function <function <lambda> at 0x11ea24d60>, received 0.\n",
      "  warnings.warn(\n",
      "/Users/bytedance/miniconda3/envs/byteplus_video/lib/python3.11/site-packages/gradio/utils.py:984: UserWarning: Expected at least 1 arguments for function <function <lambda> at 0x11ea24d60>, received 0.\n",
      "  warnings.warn(\n"
     ]
    },
    {
     "name": "stdout",
     "output_type": "stream",
     "text": [
      "* Running on local URL:  http://127.0.0.1:7878\n",
      "\n",
      "To create a public link, set `share=True` in `launch()`.\n"
     ]
    },
    {
     "data": {
      "text/html": [
       "<div><iframe src=\"http://127.0.0.1:7878/\" width=\"100%\" height=\"500\" allow=\"autoplay; camera; microphone; clipboard-read; clipboard-write;\" frameborder=\"0\" allowfullscreen></iframe></div>"
      ],
      "text/plain": [
       "<IPython.core.display.HTML object>"
      ]
     },
     "metadata": {},
     "output_type": "display_data"
    },
    {
     "data": {
      "text/plain": []
     },
     "execution_count": 8,
     "metadata": {},
     "output_type": "execute_result"
    }
   ],
   "source": [
    "import gradio as gr  \n",
    "\n",
    "\n",
    "def process_string(input_string):  \n",
    "    \"\"\"处理字符串的 Python 函数\"\"\"  \n",
    "    processed_string = input_string + \"Precessed\"  # 例如，将字符串转换为大写  \n",
    "    return processed_string  \n",
    "\n",
    "\n",
    "js_button = \"\"\"\n",
    "function(inputValue) {\n",
    "    alert(inputValue);\n",
    "}\n",
    "\"\"\"\n",
    "\n",
    "with gr.Blocks() as demo:   \n",
    "    input_text = gr.Textbox(label=\"输入字符串\", elem_id=\"input-textbox\")  \n",
    "    hidden_text = gr.Textbox(label=\"中转字符串\", elem_id=\"hidden-textbox\", visible=False)  \n",
    "    output_text = gr.Textbox(label=\"输出字符串\", elem_id=\"output-textbox\")  \n",
    "\n",
    "\n",
    "    button = gr.Button(\"处理并传递给 JavaScript\")  \n",
    "\n",
    "    button.click(  \n",
    "        fn=process_string,  \n",
    "        inputs=input_text,  \n",
    "        outputs=hidden_text, \n",
    "        queue=True,  #  关键：启用队列  \n",
    "    ).then(  \n",
    "        fn=None,\n",
    "        inputs=hidden_text,  \n",
    "        outputs=output_text,\n",
    "        js=js_button,  # 在 process_string 之后调用 JavaScript 函数  \n",
    "    ).then(  \n",
    "        fn=lambda x: x, #  标识函数，将js的返回值传递给output  \n",
    "        outputs=output_text,  \n",
    "    )  \n",
    "\n",
    "\n",
    "demo.launch()"
   ]
  }
 ],
 "metadata": {
  "kernelspec": {
   "display_name": "byteplus_video",
   "language": "python",
   "name": "python3"
  },
  "language_info": {
   "codemirror_mode": {
    "name": "ipython",
    "version": 3
   },
   "file_extension": ".py",
   "mimetype": "text/x-python",
   "name": "python",
   "nbconvert_exporter": "python",
   "pygments_lexer": "ipython3",
   "version": "3.11.10"
  }
 },
 "nbformat": 4,
 "nbformat_minor": 2
}
